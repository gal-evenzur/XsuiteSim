{
 "cells": [
  {
   "cell_type": "markdown",
   "id": "879dbf0e",
   "metadata": {},
   "source": [
    "First I've installed "
   ]
  }
 ],
 "metadata": {
  "language_info": {
   "name": "python"
  }
 },
 "nbformat": 4,
 "nbformat_minor": 5
}
