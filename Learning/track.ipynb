{
 "cells": [
  {
   "cell_type": "code",
   "execution_count": 4,
   "id": "0a93b5f9",
   "metadata": {},
   "outputs": [],
   "source": [
    "import numpy as np\n",
    "import matplotlib.pyplot as plt\n",
    "\n",
    "import xobjects as xo\n",
    "import xtrack as xt\n",
    "\n"
   ]
  },
  {
   "cell_type": "code",
   "execution_count": 5,
   "id": "5e895995",
   "metadata": {},
   "outputs": [
    {
     "name": "stdout",
     "output_type": "stream",
     "text": [
      "3.3356405164803316\n"
     ]
    }
   ],
   "source": [
    "# Physical constants\n",
    "c   = 299792458  # speed of light in m/s\n",
    "c2  = c*c\n",
    "e   = 1.602176634e-19  # elementary charge in C\n",
    "m_e = 9.1093837015e-31  # electron/positron mass in kg\n",
    "m_p = 1.67262192e-27 # proton/antiproton mass in kg\n",
    "\n",
    "\n",
    "u = {\n",
    "    'c': 299792458,\n",
    "    'c2': 299792458**2,\n",
    "    'rest_e': xt.ELECTRON_MASS_EV,\n",
    "    'rest_p': xt.PROTON_MASS_EV,\n",
    "    'm_to_cm': 1e2,\n",
    "    'm_to_mm': 1e3,\n",
    "    'm_to_um': 1e6,\n",
    "    'cm_to_mm': 1e1,\n",
    "    'cm_to_um': 1e4,\n",
    "    'cm_to_m': 1e-2,\n",
    "    'mm_to_m': 1e-3,\n",
    "    'mm_to_cm': 1e-1,\n",
    "    'mm_to_um': 1e3,\n",
    "    'um_to_mm': 1e-3,\n",
    "    'um_to_cm': 1e-4,\n",
    "    'um_to_m': 1e-6,\n",
    "    'kG_to_T': 0.1,\n",
    "    'GeV_to_kgms': 5.39e-19,\n",
    "    'GeV_to_kg': 1.8e-27,\n",
    "    'GeV_to_kgm2s2': 1.6e-10,\n",
    "}\n",
    "\n",
    "def p_from_E(E, E_rest):\n",
    "    # m is in eV\n",
    "    # E is in eV\n",
    "    # p is in eV / c\n",
    "    pc = (E**2 - (E_rest)**2)**0.5\n",
    "    return pc / u['c']\n",
    "\n",
    "ref = {\n",
    "    'q': 1,\n",
    "    'p': p_from_E(1e9, u['rest_e']),  # E = 1 MeV\n",
    "    'betx_0': 1.0,\n",
    "    'alfx_0': 0.0,\n",
    "    'bety_0': 1.0,\n",
    "    'alfy_0': 0.0,\n",
    "}\n",
    "\n",
    "\n",
    "def grad_kG_to_k(grad_kG):\n",
    "    grad_T = grad_kG * u['kG_to_T']\n",
    "    k = grad_T / ref['p']\n",
    "    return k\n",
    "\n",
    "def B_T_to_k(B_T):\n",
    "    k = B_T / ref['p']\n",
    "    return k\n",
    "\n",
    "print(ref['p'])\n"
   ]
  },
  {
   "cell_type": "code",
   "execution_count": 6,
   "id": "6efefc53",
   "metadata": {},
   "outputs": [],
   "source": [
    "env = xt.Environment()\n",
    "\n",
    "env['kq_p'] = grad_kG_to_k(-6.66)\n",
    "env['kq_n'] = grad_kG_to_k(28.86)\n",
    "env['kd'] = B_T_to_k(0.219)\n",
    "\n",
    "\n",
    "env['qL'] = 1"
   ]
  },
  {
   "cell_type": "code",
   "execution_count": 7,
   "id": "b733c2a4",
   "metadata": {},
   "outputs": [
    {
     "data": {
      "text/plain": [
       "<xtrack.tracker.Tracker at 0x7cbf1d78bfd0>"
      ]
     },
     "execution_count": 7,
     "metadata": {},
     "output_type": "execute_result"
    }
   ],
   "source": [
    "# Creating Line\n",
    "line = env.new_line(components=[\n",
    "    env.new('d0', xt.Drift, length=3.6),\n",
    "    env.new('q0', xt.Quadrupole, length='qL', k1='kq_p'),\n",
    "    env.new('d0.1', xt.Drift, length=1.3),\n",
    "    env.new('q1', xt.Quadrupole, length='qL', k1s='kq_n'),\n",
    "    env.new('d1.2', xt.Drift, length=1.3),\n",
    "    env.new('q2', xt.Quadrupole, length='qL', k1='kq_p'),\n",
    "    env.new('d2.2', xt.Drift, length=1.2),\n",
    "    env.new('dd', xt.Bend, length=0.5, k0='kd'),\n",
    "])\n",
    "\n",
    "\n",
    "line.particle_ref = xt.Particles(\n",
    "    p0c=ref['p'] * u['c'],  # in eV\n",
    "    mass0=xt.ELECTRON_MASS_EV,\n",
    "    q0=1,\n",
    ")\n",
    "\n",
    "line.build_tracker()\n"
   ]
  },
  {
   "cell_type": "code",
   "execution_count": 9,
   "id": "c220100c",
   "metadata": {},
   "outputs": [],
   "source": [
    "# Twiss\n",
    "init = xt.TwissInit(betx=ref['betx_0'], alfx=ref['alfx_0'], bety=ref['bety_0'], alfy=ref['alfy_0'])  # example values\n",
    "\n",
    "tw = line.twiss(\n",
    "    method='4d',\n",
    "    init=init,\n",
    "    end='_end_point',\n",
    ")\n"
   ]
  },
  {
   "cell_type": "code",
   "execution_count": null,
   "id": "a6bd1aef",
   "metadata": {},
   "outputs": [],
   "source": [
    "# Beam size investigation\n",
    "\n",
    "# Transverse normalized emittances\n",
    "nemitt_x = 2.5e-6\n",
    "nemitt_y = 2.5e-6\n",
    "\n",
    "# Longitudinal emittance from energy spread\n",
    "sigma_pzeta = 2e-4\n",
    "gemitt_zeta = sigma_pzeta**2 * 1.0\n",
    "# similarly, if the bunch length is known, the emittance can be computed as\n",
    "# gemitt_zeta = sigma_zeta**2 / tw.bets0\n",
    "\n",
    "# Compute beam sizes\n",
    "beam_sizes = tw.get_beam_covariance(nemitt_x=nemitt_x, nemitt_y=nemitt_y,\n",
    "                                    gemitt_zeta=gemitt_zeta)\n",
    "\n",
    "# Inspect beam sizes (table can be accessed similarly to twiss tables)\n",
    "beam_sizes.show()\n",
    "\n",
    "\n",
    "# Plot\n",
    "import matplotlib.pyplot as plt\n",
    "plt.close('all')\n",
    "\n",
    "fig1 = plt.figure(1, figsize=(6.4, 4.8*1.5))\n",
    "spbet = plt.subplot(3,1,1)\n",
    "spdisp = plt.subplot(3,1,2, sharex=spbet)\n",
    "spbsz = plt.subplot(3,1,3, sharex=spbet)\n",
    "\n",
    "spbet.plot(tw.s, tw.betx)\n",
    "spbet.plot(tw.s, tw.bety)\n",
    "spbet.set_ylabel(r'$\\beta_{x,y}$ [m]')\n",
    "\n",
    "spdisp.plot(tw.s, tw.dx)\n",
    "spdisp.plot(tw.s, tw.dy)\n",
    "spdisp.set_ylabel(r'$D_{x,y}$ [m]')\n",
    "\n",
    "spbsz.plot(beam_sizes.s, beam_sizes.sigma_x)\n",
    "spbsz.plot(beam_sizes.s, beam_sizes.sigma_y)\n",
    "spbsz.set_ylabel(r'$\\sigma_{x,y}$ [m]')\n",
    "spbsz.set_xlabel('s [m]')\n",
    "\n",
    "\n",
    "fig1.subplots_adjust(left=.15, right=.92, hspace=.27)\n",
    "plt.show()\n"
   ]
  },
  {
   "cell_type": "code",
   "execution_count": null,
   "id": "35c4f08c",
   "metadata": {},
   "outputs": [],
   "source": []
  }
 ],
 "metadata": {
  "kernelspec": {
   "display_name": "xsuite-env",
   "language": "python",
   "name": "python3"
  },
  "language_info": {
   "codemirror_mode": {
    "name": "ipython",
    "version": 3
   },
   "file_extension": ".py",
   "mimetype": "text/x-python",
   "name": "python",
   "nbconvert_exporter": "python",
   "pygments_lexer": "ipython3",
   "version": "3.11.13"
  }
 },
 "nbformat": 4,
 "nbformat_minor": 5
}
